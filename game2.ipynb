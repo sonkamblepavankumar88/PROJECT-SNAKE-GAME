{
 "cells": [
  {
   "cell_type": "code",
   "execution_count": 1,
   "id": "56a2b9ae",
   "metadata": {},
   "outputs": [],
   "source": [
    "import pprint"
   ]
  },
  {
   "cell_type": "code",
   "execution_count": 3,
   "id": "fcd2beaa",
   "metadata": {},
   "outputs": [
    {
     "ename": "SyntaxError",
     "evalue": "invalid syntax (811269816.py, line 50)",
     "output_type": "error",
     "traceback": [
      "\u001b[1;36m  File \u001b[1;32m\"C:\\Users\\Pavan Sonkamble\\AppData\\Local\\Temp\\ipykernel_12132\\811269816.py\"\u001b[1;36m, line \u001b[1;32m50\u001b[0m\n\u001b[1;33m    board==[[7,8,0,4,0,0,1,2,0],[6,0,0,0,7,5,0,0,9],[0,0,0,6,0,1,0,7,8],[0,0,7,0,4,0,2,6,0],[0,0,1,0,5,0,9,3,0],[9,0,4,0,6,0,0,0,5],[0,7,0,3,0,0,0,1,2],[1,2,0,0,0,7,4,0,0],[0,4,9,2,0,6,0,0,7]]\u001b[0m\n\u001b[1;37m    ^\u001b[0m\n\u001b[1;31mSyntaxError\u001b[0m\u001b[1;31m:\u001b[0m invalid syntax\n"
     ]
    }
   ],
   "source": [
    "def solve(bo):\n",
    "    find =find_empty(bo)\n",
    "    if find:\n",
    "        return True\n",
    "    for i in range(1,10):\n",
    "        if valid(bo,(row,col),i):\n",
    "            bo[row][col]=i\n",
    "            \n",
    "            if solve(bo):\n",
    "                return True\n",
    "            bo[row][col]=0\n",
    "    return False\n",
    "\n",
    "#checck col\n",
    "for i in range(0,len(bo)):\n",
    "    if bo[i][pos[1]]==num and pos[1]!=i:\n",
    "        return False\n",
    "    \n",
    "#check box\n",
    "box_x=[1//3]\n",
    "box_y=[0]//3\n",
    "\n",
    "for i in range(box_x*3,box_y*3+3):\n",
    "    for j in range(box_x*3,box_y*3+3):\n",
    "        if bo[i][j]==num and (i,j) !=pos:\n",
    "            return False\n",
    "        \n",
    "return True\n",
    "\n",
    "def find_empty(bo):\n",
    "    for i in range(len(bo)):\n",
    "        for j in range(len(bo[0])):\n",
    "            if bo[i][j]==0:\n",
    "                return(i,j)\n",
    "return none\n",
    "\n",
    "def print_board(bo):\n",
    "    for i in range(len(bo)):\n",
    "        if i%3==0 and i!=0:\n",
    "            print('-----')\n",
    "            \n",
    "    for j in range (len(bo(0))):\n",
    "        if j%3==0:\n",
    "            print('|',end='')\n",
    "        if j==8:\n",
    "            print(bo([i][j],end='\\n'))\n",
    "        else:\n",
    "            print(str(bo[i][j])+'',end=('')\n",
    "                  \n",
    "board==[[7,8,0,4,0,0,1,2,0],[6,0,0,0,7,5,0,0,9],[0,0,0,6,0,1,0,7,8],[0,0,7,0,4,0,2,6,0],[0,0,1,0,5,0,9,3,0],[9,0,4,0,6,0,0,0,5],[0,7,0,3,0,0,0,1,2],[1,2,0,0,0,7,4,0,0],[0,4,9,2,0,6,0,0,7]]\n",
    "pp=pprint.PrettyPrinter(width=41,compact=True)\n",
    "solve(board)\n",
    "pp.print(board)\n",
    "                  "
   ]
  },
  {
   "cell_type": "code",
   "execution_count": null,
   "id": "28fee9f5",
   "metadata": {},
   "outputs": [],
   "source": []
  }
 ],
 "metadata": {
  "kernelspec": {
   "display_name": "Python 3 (ipykernel)",
   "language": "python",
   "name": "python3"
  },
  "language_info": {
   "codemirror_mode": {
    "name": "ipython",
    "version": 3
   },
   "file_extension": ".py",
   "mimetype": "text/x-python",
   "name": "python",
   "nbconvert_exporter": "python",
   "pygments_lexer": "ipython3",
   "version": "3.9.13"
  }
 },
 "nbformat": 4,
 "nbformat_minor": 5
}
